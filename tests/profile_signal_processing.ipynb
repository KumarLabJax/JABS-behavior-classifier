{
 "cells": [
  {
   "attachments": {},
   "cell_type": "markdown",
   "metadata": {},
   "source": [
    "<h1 style=\"color: navy;text-align: center;\">Signal Processing Performance Profiling</h1>\n",
    "<hr>\n",
    "<p>\n",
    "This notebook is used to examine the performance of the code which generates the signal processing features.\n",
    "</p>"
   ]
  },
  {
   "attachments": {},
   "cell_type": "markdown",
   "metadata": {},
   "source": [
    "<h3 style=\"color: navy\">Set-up for Profiling</h3>"
   ]
  },
  {
   "cell_type": "code",
   "execution_count": 1,
   "metadata": {},
   "outputs": [],
   "source": [
    "# Imports\n",
    "\n",
    "import numpy as np\n",
    "import h5py\n",
    "import os\n",
    "\n",
    "from pathlib import Path\n",
    "\n",
    "from src.pose_estimation import open_pose_file\n",
    "\n",
    "# Bring in some base feature modules.\n",
    "from src.feature_extraction.base_features import (moments as Moments, \n",
    "                                                  point_speeds as PointSpeeds)"
   ]
  },
  {
   "cell_type": "code",
   "execution_count": 2,
   "metadata": {},
   "outputs": [
    {
     "name": "stdout",
     "output_type": "stream",
     "text": [
      "Requirement already satisfied: line_profiler in c:\\users\\sebasn\\anaconda3\\lib\\site-packages (4.0.3)\n",
      "Note: you may need to restart the kernel to use updated packages.\n"
     ]
    }
   ],
   "source": [
    "# Install the line profiler module and load it.\n",
    "\n",
    "%pip install line_profiler\n",
    "%load_ext line_profiler\n"
   ]
  },
  {
   "cell_type": "code",
   "execution_count": 3,
   "metadata": {},
   "outputs": [
    {
     "name": "stdout",
     "output_type": "stream",
     "text": [
      "\u001b[1;31mDocstring:\u001b[0m\n",
      "Execute a statement under the line-by-line profiler from the\n",
      "line_profiler module.\n",
      "\n",
      "Usage:\n",
      "%lprun -f func1 -f func2 <statement>\n",
      "\n",
      "The given statement (which doesn't require quote marks) is run via the\n",
      "LineProfiler. Profiling is enabled for the functions specified by the -f\n",
      "options. The statistics will be shown side-by-side with the code through the\n",
      "pager once the statement has completed.\n",
      "\n",
      "Options:\n",
      "\n",
      "-f <function>: LineProfiler only profiles functions and methods it is told\n",
      "to profile.  This option tells the profiler about these functions. Multiple\n",
      "-f options may be used. The argument may be any expression that gives\n",
      "a Python function or method object. However, one must be careful to avoid\n",
      "spaces that may confuse the option parser.\n",
      "\n",
      "-m <module>: Get all the functions/methods in a module\n",
      "\n",
      "One or more -f or -m options are required to get any useful results.\n",
      "\n",
      "-D <filename>: dump the raw statistics out to a pickle file on disk. The\n",
      "usual extension for this is \".lprof\". These statistics may be viewed later\n",
      "by running line_profiler.py as a script.\n",
      "\n",
      "-T <filename>: dump the text-formatted statistics with the code side-by-side\n",
      "out to a text file.\n",
      "\n",
      "-r: return the LineProfiler object after it has completed profiling.\n",
      "\n",
      "-s: strip out all entries from the print-out that have zeros.\n",
      "\n",
      "-u: specify time unit for the print-out in seconds.\n",
      "\u001b[1;31mFile:\u001b[0m      c:\\users\\sebasn\\anaconda3\\lib\\site-packages\\line_profiler\\ipython_extension.py\n"
     ]
    }
   ],
   "source": [
    "%lprun?"
   ]
  },
  {
   "attachments": {},
   "cell_type": "markdown",
   "metadata": {},
   "source": [
    "<p>\n",
    "The <b style=\"color: navy;\">pose_path</b> variable should point to the pose_est h5 file of interest.  In my case, the test file resides in the data directory.\n",
    "</p>"
   ]
  },
  {
   "cell_type": "code",
   "execution_count": 4,
   "metadata": {},
   "outputs": [],
   "source": [
    "# Open pose file and create pose estimate object. \n",
    "\n",
    "pose_path = \"data\" / Path(\"B6J_MDB0054_pose_est_v6.h5\")\n",
    "\n",
    "if os.path.isfile(pose_path):\n",
    "    pose = open_pose_file(pose_path)"
   ]
  },
  {
   "attachments": {},
   "cell_type": "markdown",
   "metadata": {},
   "source": [
    "<p>\n",
    "Test that the moments (or other base feature of interest) can be initialized and computed per frame.\n",
    "</p>"
   ]
  },
  {
   "cell_type": "code",
   "execution_count": 5,
   "metadata": {},
   "outputs": [],
   "source": [
    "test_identity = 1\n",
    "\n",
    "moment = Moments.Moments(pose, pose.cm_per_pixel)\n",
    "\n",
    "assert moment._name == 'moments'\n",
    "\n",
    "moment_features = moment.per_frame(test_identity)\n",
    "\n",
    "assert moment_features.shape[0] == pose.num_frames"
   ]
  },
  {
   "attachments": {},
   "cell_type": "markdown",
   "metadata": {},
   "source": [
    "<h3 style=\"color: navy;\">Profiling with the line profiler</h3>\n",
    "<p>\n",
    "The <b style=\"color: navy;\">nframes</b> variable slices the array down to a size such that the signal processing features can be computed faster.\n",
    "</p>\n",
    "<h4 style=\"color: navy;\">i. <b>signal_processing</b> Profile</h4>"
   ]
  },
  {
   "cell_type": "code",
   "execution_count": 6,
   "metadata": {},
   "outputs": [
    {
     "name": "stderr",
     "output_type": "stream",
     "text": [
      "c:\\Users\\sebasn\\Anaconda3\\lib\\site-packages\\scipy\\signal\\spectral.py:1964: UserWarning: nperseg = 16 is greater than input length  = 11, using nperseg = 11\n",
      "  warnings.warn('nperseg = {0:d} is greater than input length '\n",
      "c:\\Users\\sebasn\\Anaconda3\\lib\\site-packages\\numpy\\core\\fromnumeric.py:755: UserWarning: Warning: 'partition' will ignore the 'mask' of the MaskedArray.\n",
      "  a.partition(kth, axis=axis, kind=kind, order=order)\n",
      "c:\\Users\\sebasn\\Documents\\Programs\\JABS-behavior-classifier\\src\\feature_extraction\\feature_base_class.py:245: UserWarning: Warning: converting a masked element to nan.\n",
      "  return np.array([\n"
     ]
    },
    {
     "name": "stdout",
     "output_type": "stream",
     "text": [
      "\n",
      "*** Profile printout saved to text file 'signal_processing_profile.txt'. \n"
     ]
    },
    {
     "name": "stdout",
     "output_type": "stream",
     "text": [
      "Timer unit: 1e-07 s\n",
      "\n",
      "Total time: 0.79388 s\n",
      "File: c:\\Users\\sebasn\\Documents\\Programs\\JABS-behavior-classifier\\src\\feature_extraction\\feature_base_class.py\n",
      "Function: signal_processing at line 179\n",
      "\n",
      "Line #      Hits         Time  Per Hit   % Time  Line Contents\n",
      "==============================================================\n",
      "   179                                               def signal_processing(\n",
      "   180                                                   self, identity: int, window_size: int,\n",
      "   181                                                   feature_values: np.ndarray,\n",
      "   182                                                   nframes: int\n",
      "   183                                               ) -> typing.Dict:\n",
      "   184                                                   \"\"\"\n",
      "   185                                                   This method combines the helper functions, compute_frequency_features\n",
      "   186                                                   and get_frequency_feature for better line profiling.\n",
      "   187                                           \n",
      "   188                                                   :return: a dictionary of the signal processing features.\n",
      "   189                                                   \"\"\"\n",
      "   190                                                   \n",
      "   191         1         90.0     90.0      0.0          frame_mask = self._poses.identity_mask(identity)[:nframes, ...]\n",
      "   192         1       2877.0   2877.0      0.0          window_masks = self._window_masks(frame_mask, window_size, nframes)\n",
      "   193         1         21.0     21.0      0.0          window_width = self.window_width(window_size)\n",
      "   194         1       1200.0   1200.0      0.0          values = np.zeros((*feature_values.shape, 20))\n",
      "   195                                           \n",
      "   196                                                   # The feature is 2D, the window features are computed for each column.\n",
      "   197        24        101.0      4.2      0.0          for j in range(feature_values.shape[1]):\n",
      "   198        24       4249.0    177.0      0.1              windows = rolling_window(\n",
      "   199        24      17908.0    746.2      0.2                  np.pad(feature_values[:, j], window_size),\n",
      "   200        24         64.0      2.7      0.0                  window_width\n",
      "   201                                                       )\n",
      "   202                                           \n",
      "   203        24       7620.0    317.5      0.1              mx = np.ma.masked_array(windows, window_masks)\n",
      "   204        24    7903693.0 329320.5     99.6              fft_features = np.ma.apply_along_axis(\n",
      "   205        24        225.0      9.4      0.0                  self.get_frequency_feature, 1, mx)\n",
      "   206                                           \n",
      "   207        24        580.0     24.2      0.0              values[:, j, :] = fft_features\n",
      "   208                                           \n",
      "   209         1        153.0    153.0      0.0          return {self._signal_keys[i]: values[:, :, i]\n",
      "   210         1         22.0     22.0      0.0                  for i in range(len(self._signal_keys))}"
     ]
    }
   ],
   "source": [
    "window_size = 5\n",
    "\n",
    "nframes = 10\n",
    "\n",
    "%lprun -T signal_processing_profile.txt -f moment.signal_processing moment.signal_processing(test_identity, window_size, moment_features[:nframes, ...], nframes)"
   ]
  },
  {
   "attachments": {},
   "cell_type": "markdown",
   "metadata": {},
   "source": [
    "<h4 style=\"color: navy;\">ii. <b>get_frequency_feature</b> Profile</h4>"
   ]
  },
  {
   "cell_type": "code",
   "execution_count": 9,
   "metadata": {},
   "outputs": [
    {
     "name": "stdout",
     "output_type": "stream",
     "text": [
      "\n",
      "*** Profile printout saved to text file 'get_frequency_feature_profile.txt'. \n"
     ]
    },
    {
     "name": "stdout",
     "output_type": "stream",
     "text": [
      "Timer unit: 1e-07 s\n",
      "\n",
      "Total time: 0.0050886 s\n",
      "File: c:\\Users\\sebasn\\Documents\\Programs\\JABS-behavior-classifier\\src\\feature_extraction\\feature_base_class.py\n",
      "Function: get_frequency_feature at line 230\n",
      "\n",
      "Line #      Hits         Time  Per Hit   % Time  Line Contents\n",
      "==============================================================\n",
      "   230                                               def get_frequency_feature(\n",
      "   231                                                       self, wave: np.ndarray, a: np.ndarray = _a, b: np.ndarray = _b,\n",
      "   232                                                       samplerate: float = _samplerate) -> dict:\n",
      "   233                                                   \"\"\"\n",
      "   234                                                   :param wave: an array representing the signals for each frame for a\n",
      "   235                                                       given identity for a particular window size.\n",
      "   236                                                   :param a: The denominator coefficient vector of the filter.\n",
      "   237                                                   :param b: The numerator coefficient vector of the filter.\n",
      "   238                                                   :param samplerate: average number of samples per unit time.\n",
      "   239                                                   :return: np.ndarray with feature values with the ith value\n",
      "   240                                                       corresponding to the ith key in self.signal_keys.\n",
      "   241                                                   \"\"\"\n",
      "   242                                                   # wave = signal.filtfilt(b=b, a=a, x=wave)\n",
      "   243         1       6830.0   6830.0     13.4          freqs, psd = signal.welch(wave, fs=samplerate, nperseg=16, nfft=64)\n",
      "   244                                           \n",
      "   245         1        157.0    157.0      0.3          return np.array([\n",
      "   246         1       2378.0   2378.0      4.7              kurtosis(wave),\n",
      "   247         1       1852.0   1852.0      3.6              kurtosis(psd),\n",
      "   248         1       2005.0   2005.0      3.9              skew(psd),\n",
      "   249         1        316.0    316.0      0.6              np.mean(psd[np.logical_and(freqs > 0.1, freqs < 1)]),\n",
      "   250         1        207.0    207.0      0.4              np.mean(psd[np.logical_and(freqs > 1, freqs < 3)]),\n",
      "   251         1        184.0    184.0      0.4              np.mean(psd[np.logical_and(freqs > 3, freqs < 5)]),\n",
      "   252         1        189.0    189.0      0.4              np.mean(psd[np.logical_and(freqs > 5, freqs < 8)]),\n",
      "   253         1        200.0    200.0      0.4              np.mean(psd[np.logical_and(freqs > 8, freqs < 15)]),\n",
      "   254         1        106.0    106.0      0.2              np.sum(psd),\n",
      "   255         1         76.0     76.0      0.1              max(psd),\n",
      "   256         1         29.0     29.0      0.1              min(psd),\n",
      "   257         1        277.0    277.0      0.5              np.average(psd),\n",
      "   258         1        685.0    685.0      1.3              np.std(psd),\n",
      "   259         1        932.0    932.0      1.8              np.average(wave),\n",
      "   260         1       7474.0   7474.0     14.7              np.std(wave),\n",
      "   261         1      12267.0  12267.0     24.1              max(wave),\n",
      "   262         1      11459.0  11459.0     22.5              min(wave),\n",
      "   263         1         83.0     83.0      0.2              freqs[psd == max(psd)][0],\n",
      "   264         1       2395.0   2395.0      4.7              np.median(wave),\n",
      "   265         1        785.0    785.0      1.5              np.median(psd)])"
     ]
    }
   ],
   "source": [
    "nframes = 500\n",
    "\n",
    "mx = moment.build_mx_array(test_identity, window_size, moment_features[:nframes, ...], nframes)\n",
    "\n",
    "curr_frame = 0\n",
    "\n",
    "\n",
    "%lprun -T get_frequency_feature_profile.txt -f moment.get_frequency_feature moment.get_frequency_feature(mx[curr_frame,:])"
   ]
  }
 ],
 "metadata": {
  "kernelspec": {
   "display_name": "base",
   "language": "python",
   "name": "python3"
  },
  "language_info": {
   "codemirror_mode": {
    "name": "ipython",
    "version": 3
   },
   "file_extension": ".py",
   "mimetype": "text/x-python",
   "name": "python",
   "nbconvert_exporter": "python",
   "pygments_lexer": "ipython3",
   "version": "3.9.12"
  },
  "orig_nbformat": 4
 },
 "nbformat": 4,
 "nbformat_minor": 2
}
