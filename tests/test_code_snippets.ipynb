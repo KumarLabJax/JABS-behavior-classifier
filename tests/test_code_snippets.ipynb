{
 "cells": [
  {
   "cell_type": "code",
   "execution_count": 2,
   "metadata": {},
   "outputs": [],
   "source": [
    "import numpy as np "
   ]
  },
  {
   "cell_type": "code",
   "execution_count": 13,
   "metadata": {},
   "outputs": [
    {
     "name": "stdout",
     "output_type": "stream",
     "text": [
      "(1, 10) (20, 2)\n"
     ]
    }
   ],
   "source": [
    "num_frames=1\n",
    "features_per_frame=10\n",
    "data = [\n",
    "('points', (num_frames, 5, 12, 2)),\n",
    "('seg data', (num_frames, 5, 4, 319, 2)),\n",
    "('1D', (num_frames, )),\n",
    "('2D', (num_frames, features_per_frame))\n",
    "]\n",
    "\n",
    "# spent a little time refreshing on strides.\n",
    "A = np.ndarray(data[-1][-1], dtype=np.uint16)\n",
    "print(A.shape, A.strides)\n"
   ]
  }
 ],
 "metadata": {
  "kernelspec": {
   "display_name": "Python 3",
   "language": "python",
   "name": "python3"
  },
  "language_info": {
   "codemirror_mode": {
    "name": "ipython",
    "version": 3
   },
   "file_extension": ".py",
   "mimetype": "text/x-python",
   "name": "python",
   "nbconvert_exporter": "python",
   "pygments_lexer": "ipython3",
   "version": "3.9.13"
  },
  "orig_nbformat": 4
 },
 "nbformat": 4,
 "nbformat_minor": 2
}
